{
 "cells": [
  {
   "cell_type": "markdown",
   "id": "9d423244",
   "metadata": {},
   "source": [
    "## 150369. 택배 배달과 수거하기\n",
    "* https://school.programmers.co.kr/learn/courses/30/lessons/150369"
   ]
  },
  {
   "cell_type": "markdown",
   "id": "df28bcea",
   "metadata": {},
   "source": [
    "* 배달과 수거는 독립적?\n",
    "    - 어차피 배달하고 전부 비운 후에야 수거를 함."
   ]
  },
  {
   "cell_type": "code",
   "execution_count": null,
   "id": "0b332810",
   "metadata": {},
   "outputs": [],
   "source": [
    "# https://ddingmin00.tistory.com/82\n",
    "def solution(cap, n, deliveries, pickups):\n",
    "    deliveries = deliveries[::-1]\n",
    "    pickups = pickups[::-1]\n",
    "    answer = 0\n",
    "    \n",
    "    d = 0\n",
    "    p = 0\n",
    "    \n",
    "    for i in range(n):\n",
    "        d += deliveries[i]\n",
    "        p += pickups[i]\n",
    "        \n",
    "        print(\"i \", d, p)\n",
    "        while d > 0 or p > 0:\n",
    "            d -= cap\n",
    "            p -= cap\n",
    "            answer += (n - i) * 2\n",
    "        print(\"\\t\", d, p)\n",
    "    return answer\n",
    "\n",
    "solution(4, 5, [1, 0, 3, 1, 2], [0, 3, 0, 4, 0])"
   ]
  },
  {
   "cell_type": "markdown",
   "id": "17574ca5",
   "metadata": {},
   "source": [
    "## 92342. 양궁대회\n",
    "* https://school.programmers.co.kr/learn/courses/30/lessons/92342"
   ]
  },
  {
   "cell_type": "code",
   "execution_count": null,
   "id": "2cfefe91",
   "metadata": {},
   "outputs": [],
   "source": [
    "def solution(n, info):\n",
    "    answer = [0] * 11\n",
    "    Asum = sum(info)\n",
    "    \n",
    "    return answer"
   ]
  },
  {
   "cell_type": "markdown",
   "id": "9356ebc0",
   "metadata": {},
   "source": [
    "## 118667. 두 큐 합 같게 만들기\n",
    "* https://school.programmers.co.kr/learn/courses/30/lessons/118667"
   ]
  },
  {
   "cell_type": "code",
   "execution_count": 11,
   "id": "66647391",
   "metadata": {},
   "outputs": [
    {
     "data": {
      "text/plain": [
       "2"
      ]
     },
     "execution_count": 11,
     "metadata": {},
     "output_type": "execute_result"
    }
   ],
   "source": [
    "# 1 (실패)\n",
    "from collections import deque\n",
    "\n",
    "def solution(queue1, queue2):\n",
    "    dq1, dq2 = deque(queue1), deque(queue2)\n",
    "    dq3, dq4 = deque(queue1), deque(queue2)\n",
    "    target = (sum(dq1) + sum(dq2)) // 2\n",
    "    \n",
    "    if (sum(dq1) + sum(dq2)) % 2 != 0\n",
    "        return -1\n",
    "    \n",
    "    count1, count2 = 0, 0\n",
    "    while sum(dq1) != target:\n",
    "        if count1 > len(dq1) + len(dq2):\n",
    "            return -1\n",
    "        \n",
    "        if sum(dq1) < target:\n",
    "            dq1.append(dq2.popleft())\n",
    "        else:\n",
    "            dq2.append(dq1.popleft())\n",
    "        count1 += 1\n",
    "    \n",
    "    while sum(dq4) != target:\n",
    "        if count2 > len(dq3) + len(dq4):\n",
    "            return -1\n",
    "        \n",
    "        if sum(dq4) < target:\n",
    "            dq4.append(dq3.popleft())\n",
    "        else:\n",
    "            dq3.append(dq4.popleft())\n",
    "        count2 += 1\n",
    "        \n",
    "    return min(count1, count2)\n",
    "\n",
    "solution([3, 2, 7, 2], [4, 6, 5, 1])\n",
    "#solution([1, 2, 1, 2], [1, 10, 1, 2])\n",
    "#solution([1, 1], [1, 5])"
   ]
  },
  {
   "cell_type": "markdown",
   "id": "476ebcff",
   "metadata": {},
   "source": [
    "## 92341. 주차 요금 계산\n",
    "* https://school.programmers.co.kr/learn/courses/30/lessons/92341"
   ]
  },
  {
   "cell_type": "markdown",
   "id": "9bd4aa60",
   "metadata": {},
   "source": [
    "* [180, 5000, 10, 600]\n",
    "* [\"05:34 5961 IN\", \"06:00 0000 IN\", \"06:34 0000 OUT\", \"07:59 5961 OUT\", \"07:59 0148 IN\", \"18:59 0000 IN\", \"19:09 0148 OUT\", \"22:59 5961 IN\", \"23:00 5961 OUT\"]\n",
    "---\n",
    "* [14600, 34400, 5000]"
   ]
  },
  {
   "cell_type": "code",
   "execution_count": 1,
   "id": "b474b096",
   "metadata": {},
   "outputs": [
    {
     "data": {
      "text/plain": [
       "[14600, 34400, 5000]"
      ]
     },
     "execution_count": 1,
     "metadata": {},
     "output_type": "execute_result"
    }
   ],
   "source": [
    "# 1 (성공)\n",
    "def times_dif(X, Y):\n",
    "    xh, xm = map(int, X.split(':'))\n",
    "    yh, ym = map(int, Y.split(':'))\n",
    "    if xm > ym:\n",
    "        yh -= 1\n",
    "        ym += 60\n",
    "    return (yh - xh) * 60 + (ym - xm)\n",
    "\n",
    "def roundup(x):\n",
    "    if round(x) < x:\n",
    "        return round(x) + 1\n",
    "    else:\n",
    "        return round(x)\n",
    "\n",
    "def solution(fees, records):\n",
    "    timed = {}\n",
    "    for r in records:\n",
    "        hm, carN, _ = r.split()\n",
    "        if carN not in list(timed):\n",
    "            timed[carN] = []\n",
    "        timed[carN].append(hm)\n",
    "        \n",
    "    for carN in list(timed):\n",
    "        if len(timed[carN]) % 2 == 1:\n",
    "            timed[carN].append('23:59')\n",
    "    timed = dict(sorted(timed.items()))\n",
    "    \n",
    "    N = len(timed)\n",
    "    difs = [0] * N\n",
    "    for i in range(N):\n",
    "        carN = list(timed)[i]\n",
    "        while len(timed[carN]) > 0:\n",
    "            x = timed[carN].pop(0)\n",
    "            y = timed[carN].pop(0)\n",
    "            difs[i] += times_dif(x, y)\n",
    "            \n",
    "    answer = []\n",
    "    for f in difs:\n",
    "        if f <= fees[0]:\n",
    "            answer.append(fees[1])\n",
    "        else:\n",
    "            total = fees[1] + roundup((f - fees[0]) / fees[2]) * fees[3]\n",
    "            answer.append(total)\n",
    "        \n",
    "    return answer\n",
    "\n",
    "solution([180, 5000, 10, 600], [\"05:34 5961 IN\", \"06:00 0000 IN\", \"06:34 0000 OUT\", \"07:59 5961 OUT\", \"07:59 0148 IN\", \"18:59 0000 IN\", \"19:09 0148 OUT\", \"22:59 5961 IN\", \"23:00 5961 OUT\"])\n"
   ]
  },
  {
   "cell_type": "markdown",
   "id": "7286091a",
   "metadata": {},
   "source": [
    "## 92335. k진수에서 소수 개수 구하기\n",
    "* https://school.programmers.co.kr/learn/courses/30/lessons/92335"
   ]
  },
  {
   "cell_type": "code",
   "execution_count": null,
   "id": "7a7a3917",
   "metadata": {},
   "outputs": [],
   "source": []
  },
  {
   "cell_type": "markdown",
   "id": "6b658bb5",
   "metadata": {},
   "source": [
    "## 64064. 튜플\n",
    "* https://school.programmers.co.kr/learn/courses/30/lessons/64065"
   ]
  },
  {
   "cell_type": "code",
   "execution_count": null,
   "id": "94645a89",
   "metadata": {},
   "outputs": [],
   "source": []
  },
  {
   "cell_type": "markdown",
   "id": "00b3bf44",
   "metadata": {},
   "source": [
    "## 72411. 메뉴 리뉴얼\n",
    "* https://school.programmers.co.kr/learn/courses/30/lessons/72411"
   ]
  },
  {
   "cell_type": "code",
   "execution_count": null,
   "id": "52d2c18f",
   "metadata": {},
   "outputs": [],
   "source": []
  },
  {
   "cell_type": "markdown",
   "id": "2e3c211c",
   "metadata": {},
   "source": [
    "## 178870. 연속된 부분 수열의 합\n",
    "* https://school.programmers.co.kr/learn/courses/30/lessons/178870"
   ]
  },
  {
   "cell_type": "markdown",
   "id": "366282a0",
   "metadata": {},
   "source": [
    "* [1, 2, 3, 4, 5]\n",
    "* 7\n",
    "---\n",
    "* [2, 3]"
   ]
  },
  {
   "cell_type": "code",
   "execution_count": null,
   "id": "7ac86883",
   "metadata": {},
   "outputs": [],
   "source": [
    "# 1 (실패) - 시간초과\n",
    "def solution(sequence, k):\n",
    "    answer = []\n",
    "    i, j = 0, 1\n",
    "    while True:\n",
    "        #print(\"i: \", i, \" j: \", j, \" Sum: \", sum(sequence[i:j+1]))\n",
    "        # if i == len(sequence) - 1:\n",
    "        #     if sum(sequence[i:j]) == k:\n",
    "        #         answer.append([i, j])\n",
    "        #     break\n",
    "        if sum(sequence[i:j]) == k:\n",
    "            answer.append([i, j-1])\n",
    "            if i < j:\n",
    "                i += 1\n",
    "            else:\n",
    "                j += 1\n",
    "        elif sum(sequence[i:j]) < k:\n",
    "            j += 1\n",
    "        else:\n",
    "            i += 1\n",
    "\n",
    "    short = len(sequence)\n",
    "    result = [0, 0]\n",
    "    for i in range(len(answer)):\n",
    "        ans_len = answer[i][1] - answer[i][0]\n",
    "        if ans_len < short:\n",
    "            short = ans_len\n",
    "            result[0] = answer[i][0]\n",
    "            result[1] = answer[i][1]\n",
    "            \n",
    "    return result"
   ]
  },
  {
   "cell_type": "code",
   "execution_count": 2,
   "id": "4a5efdf5",
   "metadata": {},
   "outputs": [
    {
     "data": {
      "text/plain": [
       "[2, 3]"
      ]
     },
     "execution_count": 2,
     "metadata": {},
     "output_type": "execute_result"
    }
   ],
   "source": [
    "# 2 (실패) - 시간초과\n",
    "def solution(sequence, k):\n",
    "    answer = []\n",
    "    i, j = 0, 1\n",
    "    N = len(sequence)\n",
    "    while j < N+1:\n",
    "        #print(\"i: \", i, \" j: \", j, \" Sum: \", sum(sequence[i:j+1]))\n",
    "        S = sum(sequence[i:j])\n",
    "\n",
    "        if S == k:\n",
    "            answer.append([i, j-1])\n",
    "            if i < j:\n",
    "                i += 1\n",
    "            else:\n",
    "                j += 1\n",
    "        elif S < k:\n",
    "            j += 1\n",
    "        else:\n",
    "            i += 1\n",
    "\n",
    "    result = [0, 0]\n",
    "    for i in range(len(answer)):\n",
    "        ans_len = answer[i][1] - answer[i][0]\n",
    "        if ans_len < N:\n",
    "            N = ans_len\n",
    "            result[0] = answer[i][0]\n",
    "            result[1] = answer[i][1]\n",
    "            \n",
    "    return result\n",
    "\n",
    "solution([1, 2, 3, 4, 5], 7)"
   ]
  },
  {
   "cell_type": "code",
   "execution_count": 12,
   "id": "60ae4eec",
   "metadata": {},
   "outputs": [
    {
     "data": {
      "text/plain": [
       "[6, 6]"
      ]
     },
     "execution_count": 12,
     "metadata": {},
     "output_type": "execute_result"
    }
   ],
   "source": [
    "# 3 (실패) - 시간초과\n",
    "def solution(sequence, k):\n",
    "    answer = []\n",
    "    N = len(sequence)\n",
    "    \n",
    "    for i in range(N):\n",
    "        S = 0\n",
    "        S += sequence[i]\n",
    "        if S == k:\n",
    "            answer.append([i, i])\n",
    "        else:\n",
    "            for j in range(i+1, N+1):\n",
    "                #print(\"\\ti, j: \", i, \" \", j)\n",
    "                if j == N:\n",
    "                    break\n",
    "                if S + sequence[j] < k:\n",
    "                    S += sequence[j]\n",
    "                elif S + sequence[j] > k:\n",
    "                    break\n",
    "                else:\n",
    "                    answer.append([i, j])\n",
    "                    break\n",
    "                    \n",
    "    result = [0, 0]\n",
    "    for i in range(len(answer)):\n",
    "        ans_len = answer[i][1] - answer[i][0]\n",
    "        if ans_len < N:\n",
    "            N = ans_len\n",
    "            result[0] = answer[i][0]\n",
    "            result[1] = answer[i][1]\n",
    "    return result\n",
    "\n",
    "#solution([1, 2, 3, 4, 5], 7)\n",
    "solution([1, 1, 1, 2, 3, 4, 5], 5)\n",
    "#solution([2, 2, 2, 2, 2], 6)\n",
    "\n",
    "\n",
    "# while문으로 해결해야..."
   ]
  },
  {
   "cell_type": "markdown",
   "id": "5f5b1632",
   "metadata": {},
   "source": [
    "## 43165. 타겟 넘버\n",
    "* https://school.programmers.co.kr/learn/courses/30/lessons/43165"
   ]
  },
  {
   "cell_type": "code",
   "execution_count": null,
   "id": "340aa582",
   "metadata": {},
   "outputs": [],
   "source": []
  },
  {
   "cell_type": "markdown",
   "id": "ec247a26",
   "metadata": {},
   "source": [
    "## 42883. 큰 수 만들기\n",
    "* https://school.programmers.co.kr/learn/courses/30/lessons/42883"
   ]
  },
  {
   "cell_type": "markdown",
   "id": "b5871215",
   "metadata": {},
   "source": [
    "* \"4177252841\"\n",
    "* 4\n",
    "---\n",
    "* \"775841\""
   ]
  },
  {
   "cell_type": "code",
   "execution_count": 1,
   "id": "4d752619",
   "metadata": {},
   "outputs": [
    {
     "data": {
      "text/plain": [
       "'775841'"
      ]
     },
     "execution_count": 1,
     "metadata": {},
     "output_type": "execute_result"
    }
   ],
   "source": [
    "# 1 (실패 - 시간초과)\n",
    "def list2num(A):\n",
    "    A2 = list(map(str, A))\n",
    "    s = ''\n",
    "    for a in A2:\n",
    "        s += a\n",
    "    \n",
    "    return int(s)\n",
    "\n",
    "def solution(number, k):\n",
    "    Ns = list(map(int, (' ').join(number).split(' ')))\n",
    "    result = []\n",
    "    maxlen = len(Ns) - k\n",
    "    \n",
    "    for x in Ns:\n",
    "        #print(\"x: \", x)\n",
    "        if len(result) < maxlen:\n",
    "            result.append(x)\n",
    "        else:\n",
    "            resn = list2num(result)\n",
    "            pop_id = 0\n",
    "            for i in range(maxlen):\n",
    "                #print(\"- i: \", i, \" result: \", result)\n",
    "                cut = result[:i] + result[i+1:] + [x]\n",
    "                cutn = list2num(cut)\n",
    "                #print(\"\\t\", resn, cutn)\n",
    "                if resn < cutn:\n",
    "                    pop_id = i\n",
    "                    resn = cutn\n",
    "                \n",
    "            result = result[:pop_id] + result[pop_id+1:] + [x]\n",
    "    \n",
    "    return str(list2num(result))\n",
    "\n",
    "solution(\"4177252841\", 4)"
   ]
  },
  {
   "cell_type": "code",
   "execution_count": null,
   "id": "57c8747d",
   "metadata": {},
   "outputs": [],
   "source": [
    "# 박진영\n",
    "스택에 값 하나씩 저장\n",
    "새로운 값이 스택 마지막 값보다 크면 스택 pop"
   ]
  },
  {
   "cell_type": "markdown",
   "id": "7097be21",
   "metadata": {},
   "source": [
    "## 60057. 문자열 압축\n",
    "* https://school.programmers.co.kr/learn/courses/30/lessons/60057"
   ]
  },
  {
   "cell_type": "markdown",
   "id": "a44b79e6",
   "metadata": {},
   "source": [
    "* \"ababcdcdababcdcd\"\n",
    "---\n",
    "* 9 (2ababcdcd)"
   ]
  },
  {
   "cell_type": "code",
   "execution_count": 11,
   "id": "879cdd62",
   "metadata": {},
   "outputs": [
    {
     "name": "stdout",
     "output_type": "stream",
     "text": [
      "a \t babcdcdababcdcd \t ababcdcdababcdcd\n",
      "\t ab \t\t bcdcdababcdcd\n",
      "\t aba \t\t cdababcdcd\n",
      "\t abab \t\t abcdcd\n",
      "\t ababc \t\t d\n",
      "\t ababcd \t\t \n",
      "\t ababcdc \t\t \n",
      "\t ababcdcd \t\t \n",
      "\t ababcdcda \t\t \n",
      "\t ababcdcdab \t\t \n",
      "\t ababcdcdaba \t\t \n",
      "\t ababcdcdabab \t\t \n",
      "\t ababcdcdababc \t\t \n",
      "\t ababcdcdababcd \t\t \n",
      "\t ababcdcdababcdc \t\t \n",
      "\t ababcdcdababcdcd \t\t \n",
      "{}\n"
     ]
    }
   ],
   "source": [
    "def solution(s):\n",
    "    sc = ''\n",
    "    cut = ''\n",
    "    result = {}\n",
    "    for i in range(len(s)):\n",
    "        if len(cut) == 0:\n",
    "            cut += s[i]\n",
    "            sc = s[i+1:]\n",
    "            print(cut, \"\\t\", sc, \"\\t\", s)\n",
    "        else:\n",
    "            if sc.startswith(cut):\n",
    "                print(\"?\")\n",
    "                if cut not in list(result):\n",
    "                    result[cut] = 0\n",
    "                    cut = ''\n",
    "                else:\n",
    "                    result[cut] += 1\n",
    "                    cut = ''\n",
    "                print(result)\n",
    "                if len(cut) > len(sc):\n",
    "                    break\n",
    "                sc = sc[len(cut):]\n",
    "            else:\n",
    "                cut += s[i]\n",
    "                sc = sc[i+1:]\n",
    "            print(\"\\t\", cut, \"\\t\\t\", sc)\n",
    "                \n",
    "    print(result)\n",
    "        \n",
    "    \n",
    "    return\n",
    "\n",
    "solution(\"ababcdcdababcdcd\")"
   ]
  },
  {
   "cell_type": "markdown",
   "id": "f401c70d",
   "metadata": {},
   "source": [
    "## 12946. 하노이의 탑\n",
    "* https://school.programmers.co.kr/learn/courses/30/lessons/12946"
   ]
  },
  {
   "cell_type": "code",
   "execution_count": null,
   "id": "2832f7fd",
   "metadata": {},
   "outputs": [],
   "source": []
  },
  {
   "cell_type": "markdown",
   "id": "901ca418",
   "metadata": {},
   "source": [
    "## 42842. 카펫\n",
    "* https://school.programmers.co.kr/learn/courses/30/lessons/42842"
   ]
  },
  {
   "cell_type": "code",
   "execution_count": null,
   "id": "4c160b32",
   "metadata": {},
   "outputs": [],
   "source": []
  },
  {
   "cell_type": "markdown",
   "id": "fe400ad4",
   "metadata": {},
   "source": [
    "## 42888. 오픈채팅방\n",
    "* https://school.programmers.co.kr/learn/courses/30/lessons/42888"
   ]
  },
  {
   "cell_type": "code",
   "execution_count": null,
   "id": "4535db04",
   "metadata": {},
   "outputs": [],
   "source": []
  },
  {
   "cell_type": "markdown",
   "id": "7293c1a7",
   "metadata": {},
   "source": [
    "## 42853. 다리를 지나는 트럭\n",
    "* https://school.programmers.co.kr/learn/courses/30/lessons/42583"
   ]
  },
  {
   "cell_type": "markdown",
   "id": "ee897750",
   "metadata": {},
   "source": [
    "* 2\n",
    "* 10\n",
    "* [7,4,5,6]\n",
    "---\n",
    "* 8"
   ]
  },
  {
   "cell_type": "code",
   "execution_count": null,
   "id": "409a7a55",
   "metadata": {},
   "outputs": [],
   "source": [
    "# 1 (실패 - 71.4/100)\n",
    "from collections import deque\n",
    "\n",
    "def solution(bridge_length, weight, truck_weights):\n",
    "    answer = 0\n",
    "    bridge = deque([0] * bridge_length)\n",
    "    trucks = deque(truck_weights)\n",
    "    \n",
    "    while len(trucks) > 0:\n",
    "        sb = sum(bridge)\n",
    "        if sb <= weight:\n",
    "            while len(trucks) > 0 and sb - bridge[0] + trucks[0] <= weight:\n",
    "                b0 = bridge.popleft()\n",
    "                t0 = trucks.popleft()\n",
    "                bridge.append(t0)\n",
    "                sb = sb - b0 + t0\n",
    "                answer += 1\n",
    "                #print(\"1b: \", bridge, \" t: \", trucks, \" a: \", answer)\n",
    "                \n",
    "        while len(trucks) > 0 and sum(bridge) + trucks[0] > weight:\n",
    "            bridge.popleft()\n",
    "            if sum(bridge) + trucks[0] < weight:\n",
    "                bridge.append(trucks.popleft())\n",
    "            else:\n",
    "                bridge.append(0)\n",
    "            answer += 1\n",
    "            #print(\"2b: \", bridge, \" t: \", trucks, \" a: \", answer)\n",
    "\n",
    "    if sum(bridge) > 0:\n",
    "        answer += bridge_length\n",
    "        #print(\"3b: \", bridge, \" t: \", trucks, \" a: \", answer)\n",
    "        \n",
    "    return answer"
   ]
  },
  {
   "cell_type": "markdown",
   "id": "89da0d28",
   "metadata": {},
   "source": [
    "## 67257. 수식 최대화\n",
    "* https://school.programmers.co.kr/learn/courses/30/lessons/67257"
   ]
  },
  {
   "cell_type": "code",
   "execution_count": null,
   "id": "2108d24b",
   "metadata": {},
   "outputs": [],
   "source": []
  },
  {
   "cell_type": "markdown",
   "id": "0d59a63f",
   "metadata": {},
   "source": [
    "## 64064. 불량 사용자\n",
    "* https://school.programmers.co.kr/learn/courses/30/lessons/64064"
   ]
  },
  {
   "cell_type": "code",
   "execution_count": null,
   "id": "17bd2695",
   "metadata": {},
   "outputs": [],
   "source": [
    "import re\n",
    "\n",
    "def solution(user_id, banned_id):\n",
    "    ban = []\n",
    "    for b in banned_id:\n",
    "        b1 = b.replace('*', '.')\n",
    "        b2 = re.compile(b1)\n",
    "        ban.append(b2)\n",
    "    \n",
    "    for i in range(len(banned_id)):\n",
    "        for u in user_id:\n",
    "            m = ban[i].search(u)\n",
    "            if m and len(banned_id[i]) == len(u):\n",
    "                print(\"find: \", u)\n",
    "            else:\n",
    "                print(\"no\")\n",
    "                \n",
    "        print()\n",
    "    \n",
    "    answer = 0\n",
    "    return answer"
   ]
  },
  {
   "cell_type": "markdown",
   "id": "dadd0d9c",
   "metadata": {},
   "source": [
    "## 67258. 보석 쇼핑\n",
    "* https://school.programmers.co.kr/learn/courses/30/lessons/67258"
   ]
  },
  {
   "cell_type": "code",
   "execution_count": null,
   "id": "d27a12f9",
   "metadata": {},
   "outputs": [],
   "source": []
  },
  {
   "cell_type": "markdown",
   "id": "88ca71e2",
   "metadata": {},
   "source": [
    "## 49994. 방문 길이\n",
    "* https://school.programmers.co.kr/learn/courses/30/lessons/49994"
   ]
  },
  {
   "cell_type": "markdown",
   "id": "b31be7c6",
   "metadata": {},
   "source": [
    "* \"ULURRDLLU\"\n",
    "---\n",
    "* 7"
   ]
  },
  {
   "cell_type": "code",
   "execution_count": null,
   "id": "4404f1f3",
   "metadata": {},
   "outputs": [],
   "source": [
    "def solution(dirs):\n",
    "    x, y = 0, 0\n",
    "    route = []\n",
    "    old = 0\n",
    "    \n",
    "    for d in dirs:\n",
    "        xt, yt = x, y\n",
    "        if d == 'L':\n",
    "            xt -= 1\n",
    "        if d == 'R':\n",
    "            xt += 1\n",
    "        if d == 'U':\n",
    "            yt += 1\n",
    "        if d == 'D':\n",
    "            yt -= 1\n",
    "            \n",
    "        if abs(xt) <= 5 and abs(yt) <= 5:\n",
    "            if [x, y, xt, yt] in route or [xt, yt, x, y] in route:\n",
    "                old += 2\n",
    "            route.append([x, y, xt, yt])\n",
    "            route.append([xt, yt, x, y])\n",
    "            x, y = xt, yt\n",
    "            \n",
    "    # print(route)\n",
    "    return (len(route) - old) // 2"
   ]
  },
  {
   "cell_type": "markdown",
   "id": "d0d7363d",
   "metadata": {},
   "source": [
    "## 43163. 단어 변환\n",
    "* https://school.programmers.co.kr/learn/courses/30/lessons/43163"
   ]
  },
  {
   "cell_type": "markdown",
   "id": "3d89e770",
   "metadata": {},
   "source": [
    "* \"hit\"\n",
    "* \"cog\"\n",
    "* [\"hot\", \"dot\", \"dog\", \"lot\", \"log\", \"cog\"]\n",
    "---\n",
    "* 4"
   ]
  },
  {
   "cell_type": "code",
   "execution_count": null,
   "id": "dbeefd37",
   "metadata": {},
   "outputs": [],
   "source": [
    "# 1 (실패 - 80/100)\n",
    "def similar(noww, nextw): # 글자 차이 갯수 return\n",
    "    count = 0\n",
    "    for x in noww:\n",
    "        if x not in nextw:\n",
    "            count += 1\n",
    "    \n",
    "    return count\n",
    "\n",
    "def dfs(now, words2, answer, target):\n",
    "    if similar(now, target) == 1:\n",
    "        countlist.append(answer+1)\n",
    "        return\n",
    "    \n",
    "    for nextw in words2:\n",
    "        if similar(now, nextw) == 1:\n",
    "            temp = words2.copy()\n",
    "            temp.remove(nextw)\n",
    "            dfs(nextw, temp, answer+1, target)\n",
    "    \n",
    "\n",
    "def solution(begin, target, words):\n",
    "    if target not in words:\n",
    "        return 0\n",
    "    \n",
    "    answer = 0\n",
    "    global countlist\n",
    "    countlist = []\n",
    "    if similar(begin, target) == 1:\n",
    "        return 1\n",
    "    else:\n",
    "        for nextw in words:\n",
    "            if similar(begin, nextw) == 1:\n",
    "                temp = words.copy()\n",
    "                temp.remove(nextw)\n",
    "                dfs(nextw, temp, answer+1, target)\n",
    "    \n",
    "    return min(countlist)"
   ]
  }
 ],
 "metadata": {
  "kernelspec": {
   "display_name": "Python 3 (ipykernel)",
   "language": "python",
   "name": "python3"
  },
  "language_info": {
   "codemirror_mode": {
    "name": "ipython",
    "version": 3
   },
   "file_extension": ".py",
   "mimetype": "text/x-python",
   "name": "python",
   "nbconvert_exporter": "python",
   "pygments_lexer": "ipython3",
   "version": "3.8.8"
  }
 },
 "nbformat": 4,
 "nbformat_minor": 5
}
