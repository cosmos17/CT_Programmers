{
 "cells": [
  {
   "cell_type": "markdown",
   "id": "6b2d7e98",
   "metadata": {},
   "source": [
    "## 42583. 다리를 지나는 트럭\n",
    "* https://school.programmers.co.kr/learn/courses/30/lessons/42583#"
   ]
  },
  {
   "cell_type": "markdown",
   "id": "d497a47b",
   "metadata": {},
   "source": [
    "* 2\n",
    "* 10\n",
    "* [7,4,5,6]\n",
    "---\n",
    "* 8"
   ]
  },
  {
   "cell_type": "code",
   "execution_count": null,
   "id": "f8ffcb24",
   "metadata": {},
   "outputs": [],
   "source": [
    "#\n",
    "from collections import deque\n",
    "\n",
    "def solution(bridge_length, weight, truck_weights):\n",
    "    answer = 0\n",
    "    bridge = deque()\n",
    "    trucks = deque(truck_weights)\n",
    "    \n",
    "\n",
    "    while len(trucks) > 0 and sum(bridge) + trucks[0] < weight: # 최대한 많이 올리기\n",
    "        bridge.append(trucks.popleft())\n",
    "        if len(bridge) > bridge_length: # 올리다가 길이 초과하면 밀기\n",
    "            bridge.popleft()\n",
    "        answer += 1\n",
    "        print(\"b: \", bridge, \" t: \", trucks, \" a: \", answer)\n",
    "    \n",
    "    sb = sum(bridge)\n",
    "    while len(trucks) > 0:\n",
    "        if sb - bridge[0] + trucks[0] <= weight:\n",
    "            b0 = bridge.popleft()\n",
    "            t0 = trucks.popleft()\n",
    "            bridge.append(t0)\n",
    "            sb = sb - b0 + t0\n",
    "            answer += 1\n",
    "            print(\"\\tb: \", bridge, \" t: \", trucks, \" a: \", answer)\n",
    "            \n",
    "    return answer"
   ]
  },
  {
   "cell_type": "code",
   "execution_count": 1,
   "id": "6f43c87d",
   "metadata": {},
   "outputs": [
    {
     "data": {
      "text/plain": [
       "8"
      ]
     },
     "execution_count": 1,
     "metadata": {},
     "output_type": "execute_result"
    }
   ],
   "source": [
    "# 1 (실패 - 71.4점)\n",
    "\n",
    "from collections import deque\n",
    "\n",
    "def solution(bridge_length, weight, truck_weights):\n",
    "    answer = 0\n",
    "    bridge = deque([0] * bridge_length)\n",
    "    trucks = deque(truck_weights)\n",
    "    \n",
    "    while len(trucks) > 0:\n",
    "        sb = sum(bridge)\n",
    "        if sb <= weight:\n",
    "            while len(trucks) > 0 and sb - bridge[0] + trucks[0] <= weight:\n",
    "                b0 = bridge.popleft()\n",
    "                t0 = trucks.popleft()\n",
    "                bridge.append(t0)\n",
    "                sb = sb - b0 + t0\n",
    "                answer += 1\n",
    "                #print(\"1b: \", bridge, \" t: \", trucks, \" a: \", answer)\n",
    "                \n",
    "        while len(trucks) > 0 and sum(bridge) + trucks[0] > weight:\n",
    "            bridge.popleft()\n",
    "            if sum(bridge) + trucks[0] < weight:\n",
    "                bridge.append(trucks.popleft())\n",
    "            else:\n",
    "                bridge.append(0)\n",
    "            answer += 1\n",
    "            #print(\"2b: \", bridge, \" t: \", trucks, \" a: \", answer)\n",
    "\n",
    "    #print(\"3b: \", bridge, \" t: \", trucks, \" a: \", answer)\n",
    "    if sum(bridge) > 0:\n",
    "        answer += bridge_length\n",
    "        \n",
    "    return answer\n",
    "\n",
    "solution(2, 10, [7,4,5,6])"
   ]
  },
  {
   "cell_type": "markdown",
   "id": "9d07d0d3",
   "metadata": {},
   "source": [
    "## 43163. 단어 변환\n",
    "* https://school.programmers.co.kr/learn/courses/30/lessons/43163"
   ]
  },
  {
   "cell_type": "markdown",
   "id": "142de819",
   "metadata": {},
   "source": [
    "* \"hit\"\t\"cog\"\t[\"hot\", \"dot\", \"dog\", \"lot\", \"log\", \"cog\"]\n",
    "---\n",
    "* 4"
   ]
  },
  {
   "cell_type": "code",
   "execution_count": null,
   "id": "303d0d23",
   "metadata": {},
   "outputs": [],
   "source": [
    "def similar(noww, nextw): # 글자 차이 갯수 return\n",
    "    count = 0\n",
    "    for x in noww:\n",
    "        if x not in nextw:\n",
    "            count += 1\n",
    "    \n",
    "    return count\n",
    "\n",
    "def dfs(now, words2, answer, target):\n",
    "    if similar(now, target) == 1:\n",
    "        countlist.append(answer+1)\n",
    "        return\n",
    "    \n",
    "    for nextw in words2:\n",
    "        if similar(now, nextw) == 1:\n",
    "            temp = words2.copy()\n",
    "            temp.remove(nextw)\n",
    "            dfs(nextw, temp, answer+1, target)\n",
    "    \n",
    "\n",
    "def solution(begin, target, words):\n",
    "    if target not in words:\n",
    "        return 0\n",
    "    \n",
    "    answer = 0\n",
    "    global countlist\n",
    "    countlist = []\n",
    "    if similar(begin, target) == 1:\n",
    "        return 1\n",
    "    else:\n",
    "        for nextw in words:\n",
    "            if similar(begin, nextw) == 1:\n",
    "                temp = words.copy()\n",
    "                temp.remove(nextw)\n",
    "                dfs(nextw, temp, answer+1, target)\n",
    "    \n",
    "    return min(countlist)"
   ]
  },
  {
   "cell_type": "markdown",
   "id": "6c6c6773",
   "metadata": {},
   "source": [
    "## 43105. 정수 삼각형\n",
    "* https://school.programmers.co.kr/learn/courses/30/lessons/43105"
   ]
  },
  {
   "cell_type": "markdown",
   "id": "1bb199e2",
   "metadata": {},
   "source": [
    "* [[7], [3, 8], [8, 1, 0], [2, 7, 4, 4], [4, 5, 2, 6, 5]]\n",
    "---\n",
    "* 30"
   ]
  },
  {
   "cell_type": "code",
   "execution_count": null,
   "id": "531561ca",
   "metadata": {},
   "outputs": [],
   "source": [
    "def solution(triangle):\n",
    "    \n",
    "    for i in range(1, len(triangle)):\n",
    "        for j in range(i+1):\n",
    "            if j == 0: # 왼쪽 끝 인덱스\n",
    "                triangle[i][j] += triangle[i-1][j]\n",
    "            elif j == i: # 오른쪽 끝 인덱스\n",
    "                triangle[i][j] += triangle[i-1][j-1]\n",
    "            else: # 중간 인덱스\n",
    "                triangle[i][j] += max(triangle[i-1][j-1], triangle[i-1][j])\n",
    "                \n",
    "    return max(triangle[-1])"
   ]
  },
  {
   "cell_type": "markdown",
   "id": "434a11d7",
   "metadata": {},
   "source": [
    "## 12938. 최고의 집합\n",
    "* https://school.programmers.co.kr/learn/courses/30/lessons/12938"
   ]
  },
  {
   "cell_type": "markdown",
   "id": "a0eb75e3",
   "metadata": {},
   "source": [
    "* 2\n",
    "* 9\n",
    "---\n",
    "* [4, 5]"
   ]
  },
  {
   "cell_type": "code",
   "execution_count": null,
   "id": "ae47e89e",
   "metadata": {},
   "outputs": [],
   "source": [
    "# (성공)\n",
    "def solution(n, s):\n",
    "    answer = []\n",
    "    \n",
    "    if s / n < 1:\n",
    "        return [-1]\n",
    "    \n",
    "    while n > 0:\n",
    "        x = s // n\n",
    "        s -= x\n",
    "        n -= 1\n",
    "        answer.append(x)\n",
    "    \n",
    "    return answer"
   ]
  },
  {
   "cell_type": "markdown",
   "id": "7598027b",
   "metadata": {},
   "source": [
    "# 42628. 이중우선순위큐\n",
    "* https://school.programmers.co.kr/learn/courses/30/lessons/42628"
   ]
  },
  {
   "cell_type": "code",
   "execution_count": null,
   "id": "5f3ddc1c",
   "metadata": {},
   "outputs": [],
   "source": []
  }
 ],
 "metadata": {
  "kernelspec": {
   "display_name": "Python 3 (ipykernel)",
   "language": "python",
   "name": "python3"
  },
  "language_info": {
   "codemirror_mode": {
    "name": "ipython",
    "version": 3
   },
   "file_extension": ".py",
   "mimetype": "text/x-python",
   "name": "python",
   "nbconvert_exporter": "python",
   "pygments_lexer": "ipython3",
   "version": "3.8.8"
  }
 },
 "nbformat": 4,
 "nbformat_minor": 5
}
