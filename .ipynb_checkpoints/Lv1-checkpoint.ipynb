{
 "cells": [
  {
   "cell_type": "markdown",
   "id": "3150c5c9",
   "metadata": {},
   "source": [
    "## 150370. 개인정보 수집 유효기간\n",
    "* https://school.programmers.co.kr/learn/courses/30/lessons/150370"
   ]
  },
  {
   "cell_type": "markdown",
   "id": "4993330e",
   "metadata": {},
   "source": [
    "* \"2022.05.19\"\n",
    "* [\"A 6\", \"B 12\", \"C 3\"]\n",
    "* [\"2021.05.02 A\", \"2021.07.01 B\", \"2022.02.19 C\", \"2022.02.20 C\"]\n",
    "---\n",
    "* [1, 3]"
   ]
  },
  {
   "cell_type": "code",
   "execution_count": 31,
   "id": "f487c189",
   "metadata": {},
   "outputs": [
    {
     "name": "stdout",
     "output_type": "stream",
     "text": [
      "today: 2022 5 19\n",
      "valid: 2021 11 1\n",
      "today: 2022 5 19\n",
      "valid: 2022 6 30\n",
      "today: 2022 5 19\n",
      "valid: 2022 5 18\n",
      "today: 2022 5 19\n",
      "valid: 2022 5 19\n"
     ]
    },
    {
     "data": {
      "text/plain": [
       "[1, 3]"
      ]
     },
     "execution_count": 31,
     "metadata": {},
     "output_type": "execute_result"
    }
   ],
   "source": [
    "# 1 (성공)\n",
    "def valid_date(yy, mm, dd, M): # 날짜와 더할 달 수\n",
    "    if (mm + M) % 12 == 0:\n",
    "        yy += (mm + M) // 12 - 1\n",
    "    else:\n",
    "        yy += (mm + M) // 12\n",
    "        \n",
    "    mm = (mm + M) % 12\n",
    "    if mm == 0:\n",
    "        mm = 12\n",
    "    \n",
    "    if dd > 1:\n",
    "        dd -= 1\n",
    "    else:\n",
    "        if mm == 1: # 1월 1일 - 1\n",
    "            yy -= 1\n",
    "            mm = 12\n",
    "            dd = 31\n",
    "        elif mm == 3: # 3월 1일 - 1\n",
    "            mm -= 1\n",
    "            dd = 28\n",
    "        elif mm in [2, 4, 6, 8, 9, 11]: # 2/4/6/8/9/11월 1일 - 1\n",
    "            mm -= 1\n",
    "            dd = 31\n",
    "        else: # 5/7/10/12월 1일 - 1\n",
    "            mm -= 1\n",
    "            dd = 30\n",
    "    \n",
    "    return yy, mm, dd\n",
    "\n",
    "def isTimeover(ty, tm, td, valy, valm, vald):\n",
    "    if ty > valy: # 년도 안지남\n",
    "        return True\n",
    "    elif ty < valy: # 년도 지남\n",
    "        return False\n",
    "    else:            # 년도가 같을때\n",
    "        if tm > valm: # 월 안지남\n",
    "            return True\n",
    "        elif tm < valm: # 월 지남\n",
    "            return False\n",
    "        else:             # 연월 같을때\n",
    "            if td > vald: # 일자 안지남\n",
    "                return True\n",
    "            else: # 일자 지남\n",
    "                return False\n",
    "\n",
    "def solution(today, terms, privacies):\n",
    "    ty, tm, td = map(int, today.split('.'))\n",
    "    term = {}\n",
    "    for T in terms:\n",
    "        categ, val = T.split(' ')\n",
    "        term[categ] = int(val)\n",
    "    \n",
    "    answer = []\n",
    "    for i in range(len(privacies)):\n",
    "        p_date, code = privacies[i].split()\n",
    "        py, pm, pd = map(int, p_date.split('.'))\n",
    "        valy, valm, vald = valid_date(py, pm, pd, term[code])\n",
    "        print(\"today:\", ty, tm, td)\n",
    "        print(\"valid:\", valy, valm, vald)\n",
    "        \n",
    "        if isTimeover(ty, tm, td, valy, valm, vald) == True:\n",
    "            answer.append(i+1)\n",
    "    \n",
    "    return answer\n",
    "\n",
    "\n",
    "solution(\"2022.05.19\", [\"A 6\", \"B 12\", \"C 3\"], [\"2021.05.02 A\", \"2021.07.01 B\", \"2022.02.19 C\", \"2022.02.20 C\"])\n"
   ]
  },
  {
   "cell_type": "markdown",
   "id": "6b199d51",
   "metadata": {},
   "source": [
    "## 118666. 성격 유형 검사하기\n",
    "* https://school.programmers.co.kr/learn/courses/30/lessons/118666"
   ]
  },
  {
   "cell_type": "markdown",
   "id": "52b0a3cc",
   "metadata": {},
   "source": [
    "* [\"AN\", \"CF\", \"MJ\", \"RT\", \"NA\"]\n",
    "* [5, 3, 2, 7, 5]\n",
    "---\n",
    "* \"TCMA\""
   ]
  },
  {
   "cell_type": "code",
   "execution_count": 1,
   "id": "81edb20b",
   "metadata": {},
   "outputs": [
    {
     "data": {
      "text/plain": [
       "'TCMA'"
      ]
     },
     "execution_count": 1,
     "metadata": {},
     "output_type": "execute_result"
    }
   ],
   "source": [
    "# 1 (성공)\n",
    "def index_rev(sy, cs):\n",
    "    if sy == 'RT':\n",
    "        return 0, cs\n",
    "    elif sy == 'TR':\n",
    "        return 0, 8 - cs\n",
    "    elif sy == 'CF':\n",
    "        return 1, cs\n",
    "    elif sy == 'FC':\n",
    "        return 1, 8 - cs\n",
    "    elif sy == 'JM':\n",
    "        return 2, cs\n",
    "    elif sy == 'MJ':\n",
    "        return 2, 8 - cs\n",
    "    elif sy == 'AN':\n",
    "        return 3, cs\n",
    "    elif sy == 'NA':\n",
    "        return 3, 8 - cs\n",
    "\n",
    "def solution(survey, choices):\n",
    "    RCJA = [0, 0, 0, 0]\n",
    "    score = [0, -3, -2, -1, 0, 1, 2, 3]\n",
    "    N = len(survey)\n",
    "    for i in range(N):\n",
    "        idx, cs = index_rev(survey[i], choices[i])\n",
    "        RCJA[idx] += score[cs]\n",
    "        \n",
    "    answer = ''\n",
    "    if RCJA[0] <= 0:\n",
    "        answer += 'R'\n",
    "    else:\n",
    "        answer += 'T'\n",
    "    \n",
    "    if RCJA[1] <= 0:\n",
    "        answer += 'C'\n",
    "    else:\n",
    "        answer += 'F'\n",
    "        \n",
    "    if RCJA[2] <= 0:\n",
    "        answer += 'J'\n",
    "    else:\n",
    "        answer += 'M'\n",
    "        \n",
    "    if RCJA[3] <= 0:\n",
    "        answer += 'A'\n",
    "    else:\n",
    "        answer += 'N'\n",
    "    \n",
    "    return answer\n",
    "\n",
    "solution([\"AN\", \"CF\", \"MJ\", \"RT\", \"NA\"], [5, 3, 2, 7, 5])"
   ]
  },
  {
   "cell_type": "code",
   "execution_count": null,
   "id": "ebccc89b",
   "metadata": {},
   "outputs": [],
   "source": []
  }
 ],
 "metadata": {
  "kernelspec": {
   "display_name": "Python 3 (ipykernel)",
   "language": "python",
   "name": "python3"
  },
  "language_info": {
   "codemirror_mode": {
    "name": "ipython",
    "version": 3
   },
   "file_extension": ".py",
   "mimetype": "text/x-python",
   "name": "python",
   "nbconvert_exporter": "python",
   "pygments_lexer": "ipython3",
   "version": "3.8.8"
  }
 },
 "nbformat": 4,
 "nbformat_minor": 5
}
